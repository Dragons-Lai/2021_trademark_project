{
 "nbformat": 4,
 "nbformat_minor": 2,
 "metadata": {
  "language_info": {
   "name": "python",
   "codemirror_mode": {
    "name": "ipython",
    "version": 3
   },
   "version": "3.7.5-final"
  },
  "orig_nbformat": 2,
  "file_extension": ".py",
  "mimetype": "text/x-python",
  "name": "python",
  "npconvert_exporter": "python",
  "pygments_lexer": "ipython3",
  "version": 3,
  "kernelspec": {
   "name": "python38564bit69e05d436ec34cfd97c87f295a585f6b",
   "display_name": "Python 3.8.5 64-bit"
  }
 },
 "cells": [
  {
   "cell_type": "code",
   "execution_count": 46,
   "metadata": {},
   "outputs": [],
   "source": [
    "import torch\n",
    "import torchvision\n",
    "import torchvision.transforms as transform\n",
    "\n",
    "\n",
    "import psycopg2,datetime,heapq\n",
    "\n",
    "import pandas as pd\n",
    "from PIL import Image"
   ]
  },
  {
   "cell_type": "code",
   "execution_count": 160,
   "metadata": {},
   "outputs": [],
   "source": [
    "\n",
    "conn = psycopg2.connect(database=\"trademark1\", user=\"tm_root\", password=\"roottm_9823a\", host=\"trueint.lu.im.ntu.edu.tw\", port=\"5433\")\n",
    "#print(\"Opened database successfully\")\n",
    "cur = conn.cursor()"
   ]
  },
  {
   "cell_type": "code",
   "execution_count": 161,
   "metadata": {},
   "outputs": [],
   "source": [
    "caseno_list = []\n",
    "cur.execute(\"SELECT trademark.caseno, trademark.doc, rcc.Class, rcp.FileName, rcc.goods_denomination \\\n",
    "            FROM trademark  INNER JOIN  rcc ON (trademark.caseno = rcc.caseno) \\\n",
    "             INNER JOIN rcp ON ( trademark.caseno = rcp.caseno  ) \\\n",
    "where doc='TrademarkRegXMLB_048005' or doc='TrademarkRegXMLB_048004' or doc='TrademarkRegXMLB_048003' \\\n",
    "        or doc='TrademarkRegXMLB_048002' or doc='TrademarkRegXMLB_048001' \\\n",
    "        or doc='TrademarkRegXMLB_047024' or doc='TrademarkRegXMLB_047023' or doc='TrademarkRegXMLB_047022' \\\n",
    "        or doc='TrademarkRegXMLB_047021' or doc='TrademarkRegXMLB_047020' or doc='TrademarkRegXMLB_047019' \\\n",
    "        or doc='TrademarkRegXMLB_047018' or doc='TrademarkRegXMLB_047017' or doc='TrademarkRegXMLB_047016'\")\n",
    "r = cur.fetchall()\n"
   ]
  },
  {
   "cell_type": "code",
   "execution_count": 162,
   "metadata": {},
   "outputs": [
    {
     "data": {
      "text/plain": "62355"
     },
     "execution_count": 162,
     "metadata": {},
     "output_type": "execute_result"
    }
   ],
   "source": [
    "caseno_list += [i for i in r]\n",
    "len(caseno_list)"
   ]
  },
  {
   "cell_type": "code",
   "execution_count": 163,
   "metadata": {},
   "outputs": [],
   "source": [
    "data = pd.DataFrame(caseno_list, columns=['caseno', 'doc', 'class', 'filename','goods_denomination'])\n",
    "data['path'] = '/service/trademark/raw_data/XMLB/' + data.doc+ '/' + data.filename\n"
   ]
  },
  {
   "cell_type": "code",
   "execution_count": 165,
   "metadata": {},
   "outputs": [
    {
     "data": {
      "text/html": "<div>\n<style scoped>\n    .dataframe tbody tr th:only-of-type {\n        vertical-align: middle;\n    }\n\n    .dataframe tbody tr th {\n        vertical-align: top;\n    }\n\n    .dataframe thead th {\n        text-align: right;\n    }\n</style>\n<table border=\"1\" class=\"dataframe\">\n  <thead>\n    <tr style=\"text-align: right;\">\n      <th></th>\n      <th>caseno</th>\n      <th>doc</th>\n      <th>class</th>\n      <th>filename</th>\n      <th>goods_denomination</th>\n      <th>path</th>\n    </tr>\n  </thead>\n  <tbody>\n    <tr>\n      <th>0</th>\n      <td>109012984</td>\n      <td>TrademarkRegXMLB_047016</td>\n      <td>3.0</td>\n      <td>egimg_109012984_1_047016.jpg</td>\n      <td>線香；香末；烏沈香；環香；沈香；盤香；沈香油；檀香油；檀香；沈檀香；香；臥香；香塔；壽字香；...</td>\n      <td>/service/trademark/raw_data/XMLB/TrademarkRegX...</td>\n    </tr>\n    <tr>\n      <th>1</th>\n      <td>109001112</td>\n      <td>TrademarkRegXMLB_047016</td>\n      <td>9.0</td>\n      <td>egimg_109001112_1_047016.jpg</td>\n      <td>麥克風；音響喇叭；光線拾音器；耳機；頭戴式耳機；耳塞式耳機；無線耳機；感測器；攜帶式媒體播放器。</td>\n      <td>/service/trademark/raw_data/XMLB/TrademarkRegX...</td>\n    </tr>\n    <tr>\n      <th>2</th>\n      <td>109013064</td>\n      <td>TrademarkRegXMLB_047016</td>\n      <td>3.0</td>\n      <td>egimg_109013064_1_047016.jpg</td>\n      <td>線香；香末；烏沈香；環香；沈香；盤香；沈香油；檀香油；檀香；沈檀香；香；臥香；香塔；壽字香；...</td>\n      <td>/service/trademark/raw_data/XMLB/TrademarkRegX...</td>\n    </tr>\n    <tr>\n      <th>3</th>\n      <td>109013085</td>\n      <td>TrademarkRegXMLB_047016</td>\n      <td>3.0</td>\n      <td>egimg_109013085_1_047016.jpg</td>\n      <td>線香；香末；烏沈香；環香；沈香；盤香；沈香油；檀香油；檀香；沈檀香；香；臥香；香塔；壽字香；...</td>\n      <td>/service/trademark/raw_data/XMLB/TrademarkRegX...</td>\n    </tr>\n    <tr>\n      <th>4</th>\n      <td>108081777</td>\n      <td>TrademarkRegXMLB_047016</td>\n      <td>5.0</td>\n      <td>egimg_108081777_1_047016.jpg</td>\n      <td>人體用藥品；化學藥物製劑；醫療用營養品；醫療用洗淨劑；獸醫用藥；殺害蟲製劑；防蛀蟲紙；醫療用...</td>\n      <td>/service/trademark/raw_data/XMLB/TrademarkRegX...</td>\n    </tr>\n    <tr>\n      <th>...</th>\n      <td>...</td>\n      <td>...</td>\n      <td>...</td>\n      <td>...</td>\n      <td>...</td>\n      <td>...</td>\n    </tr>\n    <tr>\n      <th>62350</th>\n      <td>108071480</td>\n      <td>TrademarkRegXMLB_047016</td>\n      <td>3.0</td>\n      <td>egimg_108071480_1_047016.jpg</td>\n      <td>面膜；化粧品；髮水；護膚保養品；香水；乳液；護膚品；護髮品；防曬霜；髮膠；髮型定型液；造型髮...</td>\n      <td>/service/trademark/raw_data/XMLB/TrademarkRegX...</td>\n    </tr>\n    <tr>\n      <th>62351</th>\n      <td>108071482</td>\n      <td>TrademarkRegXMLB_047016</td>\n      <td>3.0</td>\n      <td>egimg_108071482_1_047016.jpg</td>\n      <td>面膜；化粧品；髮水；護膚保養品；香水；乳液；護膚品；護髮品；防曬霜；髮膠；髮型定型液；造型髮...</td>\n      <td>/service/trademark/raw_data/XMLB/TrademarkRegX...</td>\n    </tr>\n    <tr>\n      <th>62352</th>\n      <td>108073688</td>\n      <td>TrademarkRegXMLB_047016</td>\n      <td>3.0</td>\n      <td>egimg_108073688_1_047016.jpg</td>\n      <td>人體用肥皂；沐浴皂；沐浴乳；沐浴精；肥皂；洗手乳；洗面皂；洗面乳；洗浴乳；洗浴泡劑；香皂；嬰...</td>\n      <td>/service/trademark/raw_data/XMLB/TrademarkRegX...</td>\n    </tr>\n    <tr>\n      <th>62353</th>\n      <td>108074074</td>\n      <td>TrademarkRegXMLB_047016</td>\n      <td>3.0</td>\n      <td>egimg_108074074_1_047016.jpg</td>\n      <td>化粧水；乳液；潤膚乳液；化粧用乳霜；唇膏；護唇膏；護手霜；防皺霜；美白霜；面膜；去角質霜；卸...</td>\n      <td>/service/trademark/raw_data/XMLB/TrademarkRegX...</td>\n    </tr>\n    <tr>\n      <th>62354</th>\n      <td>108083818</td>\n      <td>TrademarkRegXMLB_047016</td>\n      <td>3.0</td>\n      <td>egimg_108083818_1_047016.jpg</td>\n      <td>化粧品、香水、水粉餅、粉餅、蜜粉、腮紅、口紅、唇膏、唇膏盒、護唇膏、粉底霜、粉底、潤唇膏、潤...</td>\n      <td>/service/trademark/raw_data/XMLB/TrademarkRegX...</td>\n    </tr>\n  </tbody>\n</table>\n<p>62355 rows × 6 columns</p>\n</div>",
      "text/plain": "          caseno                      doc  class  \\\n0      109012984  TrademarkRegXMLB_047016    3.0   \n1      109001112  TrademarkRegXMLB_047016    9.0   \n2      109013064  TrademarkRegXMLB_047016    3.0   \n3      109013085  TrademarkRegXMLB_047016    3.0   \n4      108081777  TrademarkRegXMLB_047016    5.0   \n...          ...                      ...    ...   \n62350  108071480  TrademarkRegXMLB_047016    3.0   \n62351  108071482  TrademarkRegXMLB_047016    3.0   \n62352  108073688  TrademarkRegXMLB_047016    3.0   \n62353  108074074  TrademarkRegXMLB_047016    3.0   \n62354  108083818  TrademarkRegXMLB_047016    3.0   \n\n                           filename  \\\n0      egimg_109012984_1_047016.jpg   \n1      egimg_109001112_1_047016.jpg   \n2      egimg_109013064_1_047016.jpg   \n3      egimg_109013085_1_047016.jpg   \n4      egimg_108081777_1_047016.jpg   \n...                             ...   \n62350  egimg_108071480_1_047016.jpg   \n62351  egimg_108071482_1_047016.jpg   \n62352  egimg_108073688_1_047016.jpg   \n62353  egimg_108074074_1_047016.jpg   \n62354  egimg_108083818_1_047016.jpg   \n\n                                      goods_denomination  \\\n0      線香；香末；烏沈香；環香；沈香；盤香；沈香油；檀香油；檀香；沈檀香；香；臥香；香塔；壽字香；...   \n1       麥克風；音響喇叭；光線拾音器；耳機；頭戴式耳機；耳塞式耳機；無線耳機；感測器；攜帶式媒體播放器。   \n2      線香；香末；烏沈香；環香；沈香；盤香；沈香油；檀香油；檀香；沈檀香；香；臥香；香塔；壽字香；...   \n3      線香；香末；烏沈香；環香；沈香；盤香；沈香油；檀香油；檀香；沈檀香；香；臥香；香塔；壽字香；...   \n4      人體用藥品；化學藥物製劑；醫療用營養品；醫療用洗淨劑；獸醫用藥；殺害蟲製劑；防蛀蟲紙；醫療用...   \n...                                                  ...   \n62350  面膜；化粧品；髮水；護膚保養品；香水；乳液；護膚品；護髮品；防曬霜；髮膠；髮型定型液；造型髮...   \n62351  面膜；化粧品；髮水；護膚保養品；香水；乳液；護膚品；護髮品；防曬霜；髮膠；髮型定型液；造型髮...   \n62352  人體用肥皂；沐浴皂；沐浴乳；沐浴精；肥皂；洗手乳；洗面皂；洗面乳；洗浴乳；洗浴泡劑；香皂；嬰...   \n62353  化粧水；乳液；潤膚乳液；化粧用乳霜；唇膏；護唇膏；護手霜；防皺霜；美白霜；面膜；去角質霜；卸...   \n62354  化粧品、香水、水粉餅、粉餅、蜜粉、腮紅、口紅、唇膏、唇膏盒、護唇膏、粉底霜、粉底、潤唇膏、潤...   \n\n                                                    path  \n0      /service/trademark/raw_data/XMLB/TrademarkRegX...  \n1      /service/trademark/raw_data/XMLB/TrademarkRegX...  \n2      /service/trademark/raw_data/XMLB/TrademarkRegX...  \n3      /service/trademark/raw_data/XMLB/TrademarkRegX...  \n4      /service/trademark/raw_data/XMLB/TrademarkRegX...  \n...                                                  ...  \n62350  /service/trademark/raw_data/XMLB/TrademarkRegX...  \n62351  /service/trademark/raw_data/XMLB/TrademarkRegX...  \n62352  /service/trademark/raw_data/XMLB/TrademarkRegX...  \n62353  /service/trademark/raw_data/XMLB/TrademarkRegX...  \n62354  /service/trademark/raw_data/XMLB/TrademarkRegX...  \n\n[62355 rows x 6 columns]"
     },
     "execution_count": 165,
     "metadata": {},
     "output_type": "execute_result"
    }
   ],
   "source": [
    "data"
   ]
  },
  {
   "cell_type": "code",
   "execution_count": 170,
   "metadata": {},
   "outputs": [],
   "source": [
    "im = Image.open(data.path[0])\n",
    "im.save(data.filename[0])"
   ]
  },
  {
   "cell_type": "code",
   "execution_count": 168,
   "metadata": {},
   "outputs": [
    {
     "data": {
      "text/plain": "'egimg_109012984_1_047016.jpg'"
     },
     "execution_count": 168,
     "metadata": {},
     "output_type": "execute_result"
    }
   ],
   "source": [
    "data.filename[0]"
   ]
  },
  {
   "cell_type": "code",
   "execution_count": null,
   "metadata": {},
   "outputs": [],
   "source": []
  }
 ]
}